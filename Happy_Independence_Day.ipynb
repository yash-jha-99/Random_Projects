{
 "cells": [
  {
   "cell_type": "code",
   "execution_count": 1,
   "id": "3bd31ddd",
   "metadata": {},
   "outputs": [],
   "source": [
    "import numpy as np\n",
    "import matplotlib.pyplot as py\n",
    "import matplotlib.patches as patch"
   ]
  },
  {
   "cell_type": "code",
   "execution_count": 35,
   "id": "3bd937fe",
   "metadata": {},
   "outputs": [
    {
     "data": {
      "image/png": "[encoded data removed]",
      "text/plain": [
       "<Figure size 432x288 with 1 Axes>"
      ]
     },
     "metadata": {
      "needs_background": "light"
     },
     "output_type": "display_data"
    }
   ],
   "source": [
    "#Tri colors \n",
    "a=patch.Rectangle((0,1),width=12,height=2,facecolor='green', edgecolor='grey')\n",
    "b=patch.Rectangle((0,3),width=12,height=2,facecolor='white',edgecolor='grey')\n",
    "c=patch.Rectangle((0,5),width=12,height=2,facecolor='#FF6103',edgecolor='grey')\n",
    "m,n=py.subplots()\n",
    "n.add_patch(a)\n",
    "n.add_patch(b)\n",
    "n.add_patch(c)\n",
    "# AshokChakra\n",
    "radius=0.8\n",
    "py.plot(6,4,marker= 'o' ,markerfacecolor='#000088ff',markersize=9.5)\n",
    "chakra=py.Circle((6,4),radius,color='#000088ff', fill=False,linewidth=7)\n",
    "n.add_artist(chakra)\n",
    "#24 spokes in AshokChakra\n",
    "for i in range(0,24):\n",
    "    p= 6 + radius/2 * np.cos(np.pi*i/12 + np.pi/48)\n",
    "    q= 6 + radius/2 * np.cos(np.pi*i/12 - np.pi/48)\n",
    "    r= 4 + radius/2 * np.sin(np.pi*i/12 + np.pi/48)\n",
    "    s= 4 + radius/2 * np.sin(np.pi*i/12 - np.pi/48)\n",
    "    t= 6 + radius * np.cos(np.pi*i/12)\n",
    "    u= 4 + radius * np.sin(np.pi*i/12)\n",
    "    n.add_patch(patch.Polygon([[6,4], [p,r], [t,u], [q,s]], fill=True, closed=True,color='#000088ff'))\n",
    "py.axis=('equal')\n",
    "py.show()"
   ]
  },
  {
   "cell_type": "code",
   "execution_count": null,
   "id": "022256b4",
   "metadata": {},
   "outputs": [],
   "source": []
  }
 ],
 "metadata": {
  "kernelspec": {
   "display_name": "Python 3 (ipykernel)",
   "language": "python",
   "name": "python3"
  },
  "language_info": {
   "codemirror_mode": {
    "name": "ipython",
    "version": 3
   },
   "file_extension": ".py",
   "mimetype": "text/x-python",
   "name": "python",
   "nbconvert_exporter": "python",
   "pygments_lexer": "ipython3",
   "version": "3.9.7"
  }
 },
 "nbformat": 4,
 "nbformat_minor": 5
}
