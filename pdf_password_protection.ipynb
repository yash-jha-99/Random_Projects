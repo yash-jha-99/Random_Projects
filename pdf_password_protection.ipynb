{
 "cells": [
  {
   "cell_type": "code",
   "execution_count": 1,
   "id": "7c2040df",
   "metadata": {},
   "outputs": [
    {
     "name": "stdout",
     "output_type": "stream",
     "text": [
      "Collecting pyPDF2\n",
      "  Downloading PyPDF2-2.10.0-py3-none-any.whl (208 kB)\n",
      "Requirement already satisfied: typing-extensions in c:\\users\\yash.jha\\anaconda3\\lib\\site-packages (from pyPDF2) (3.10.0.2)\n",
      "Installing collected packages: pyPDF2\n",
      "Successfully installed pyPDF2-2.10.0\n"
     ]
    }
   ],
   "source": [
    "!pip install pyPDF2"
   ]
  },
  {
   "cell_type": "code",
   "execution_count": 10,
   "id": "673be9fc",
   "metadata": {},
   "outputs": [],
   "source": [
    "from PyPDF2 import PdfFileReader,PdfFileWriter"
   ]
  },
  {
   "cell_type": "code",
   "execution_count": 17,
   "id": "969aff50",
   "metadata": {},
   "outputs": [],
   "source": [
    "#Open the file\n",
    "file_pdf=PdfFileReader(r'C:\\Users\\yash.jha\\Documents\\Yash_Jha\\0001016230005551208_04222022_05122022.PDF')\n",
    "\n",
    "#object for pdf writer\n",
    "out_pdf=PdfFileWriter()\n"
   ]
  },
  {
   "cell_type": "code",
   "execution_count": 18,
   "id": "d5bfdfef",
   "metadata": {},
   "outputs": [
    {
     "data": {
      "text/plain": [
       "<PyPDF2._reader.PdfFileReader at 0x1eb594610a0>"
      ]
     },
     "execution_count": 18,
     "metadata": {},
     "output_type": "execute_result"
    }
   ],
   "source": [
    "file_pdf"
   ]
  },
  {
   "cell_type": "code",
   "execution_count": 19,
   "id": "67281621",
   "metadata": {},
   "outputs": [
    {
     "data": {
      "text/plain": [
       "1"
      ]
     },
     "execution_count": 19,
     "metadata": {},
     "output_type": "execute_result"
    }
   ],
   "source": [
    "file_pdf.numPages"
   ]
  },
  {
   "cell_type": "code",
   "execution_count": 20,
   "id": "4f2dd96e",
   "metadata": {},
   "outputs": [],
   "source": [
    "for i in range (file_pdf.numPages):\n",
    "    page_details=file_pdf.getPage(i)\n",
    "# add to the output page\n",
    "    out_pdf.addPage(page_details)"
   ]
  },
  {
   "cell_type": "code",
   "execution_count": 21,
   "id": "ad25469c",
   "metadata": {},
   "outputs": [],
   "source": [
    "password=\"1234\"\n",
    "\n",
    "out_pdf.encrypt(password)"
   ]
  },
  {
   "cell_type": "code",
   "execution_count": 23,
   "id": "5848f8b8",
   "metadata": {},
   "outputs": [],
   "source": [
    "with open(\"encrypt2Statement.pdf\", 'wb') as filename:\n",
    "    out_pdf.write(filename)"
   ]
  },
  {
   "cell_type": "code",
   "execution_count": null,
   "id": "a9bbc484",
   "metadata": {},
   "outputs": [],
   "source": []
  }
 ],
 "metadata": {
  "kernelspec": {
   "display_name": "Python 3 (ipykernel)",
   "language": "python",
   "name": "python3"
  },
  "language_info": {
   "codemirror_mode": {
    "name": "ipython",
    "version": 3
   },
   "file_extension": ".py",
   "mimetype": "text/x-python",
   "name": "python",
   "nbconvert_exporter": "python",
   "pygments_lexer": "ipython3",
   "version": "3.9.7"
  }
 },
 "nbformat": 4,
 "nbformat_minor": 5
}
